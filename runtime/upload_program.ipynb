{
 "cells": [
  {
   "cell_type": "code",
   "execution_count": 1,
   "id": "08314248-b88e-4e65-adb7-2e490a45f10d",
   "metadata": {},
   "outputs": [],
   "source": [
    "import os\n",
    "import json\n",
    "from qiskit import IBMQ\n",
    "\n",
    "this_dir = os.getcwd()\n",
    "\n",
    "program_path = os.path.join(this_dir, 'schwinger_rqd.py')"
   ]
  },
  {
   "cell_type": "code",
   "execution_count": 2,
   "id": "c632d9a4-b696-462e-99e8-0adafece45bb",
   "metadata": {},
   "outputs": [],
   "source": [
    "provider = IBMQ.load_account()"
   ]
  },
  {
   "cell_type": "markdown",
   "id": "38dd841b-89dd-4096-885f-499ab3c6013c",
   "metadata": {},
   "source": [
    "## Write the program file"
   ]
  },
  {
   "cell_type": "code",
   "execution_count": 3,
   "id": "5330ec5f-19a5-49e9-af6c-08d7383bea14",
   "metadata": {},
   "outputs": [],
   "source": [
    "output = open(program_path, 'w')\n",
    "main_source = open(os.path.join(this_dir, 'main.py'))\n",
    "\n",
    "while True:\n",
    "    line = main_source.readline()\n",
    "    if not line:\n",
    "        break\n",
    "        \n",
    "    if line.startswith('## include'):\n",
    "        nextline = main_source.readline()\n",
    "        if nextline.startswith('from ') or nextline.startswith('import '):\n",
    "            module = nextline.split()[1]\n",
    "        else:\n",
    "            raise RuntimeError('Invalid include block: {}'.format(nextline.strip()))\n",
    "            \n",
    "        include_path = os.path.join(line.split()[2], *module.split('.')) + '.py'\n",
    "        \n",
    "        with open(include_path) as source:\n",
    "            output.write(source.read())\n",
    "            output.write('\\n')\n",
    "            \n",
    "    elif line.startswith('## ignore'):\n",
    "        main_source.readline()\n",
    "    else:\n",
    "        output.write(line)\n",
    "    \n",
    "output.close()\n",
    "main_source.close()"
   ]
  },
  {
   "cell_type": "markdown",
   "id": "672bbb25-cbb0-4515-ac9b-3627981239f5",
   "metadata": {},
   "source": [
    "## Set the metadata dict"
   ]
  },
  {
   "cell_type": "code",
   "execution_count": 4,
   "id": "4fd48587-ac70-4b62-b5a7-f04f907dd6d8",
   "metadata": {},
   "outputs": [],
   "source": [
    "json_schema = 'https://json-schema.org/draft/2019-09/schema'\n",
    "\n",
    "metadata = {\n",
    "    'name': 'schwinger-rqd',\n",
    "    'description': 'Restarted Quantum Dynamics simulation of the lattice Schwinger model.',\n",
    "    'max_execution_time': 14400,\n",
    "    'spec': {\n",
    "        'backend_requirements': {'min_num_qubits': 2},\n",
    "        'parameters': {\n",
    "            '$schema': json_schema,\n",
    "            'type': 'object',\n",
    "            'properties': {\n",
    "                'num_sites': {'description': 'Number of lattice sites (qubits).', 'type': 'number'},\n",
    "                'aJ': {'description': 'Square of the product of the coupling constant and the lattice spacing, divided by 2.', 'type': 'number'},\n",
    "                'am': {'description': 'Mass times the lattice spacing.', 'type': 'number'},\n",
    "                'omegadt': {'description': 'Trotter time step divided by double the lattice spacing.', 'type': 'number'},\n",
    "                'num_tsteps': {'description': 'Number of Trotter steps to simulate.', 'type': 'number'},\n",
    "                'tsteps_per_rqd': {'description': 'Number of Trotter steps to advance in each RQD step.', 'type': 'number'},\n",
    "                'api_token': {'description': 'IBM Quantum API token.', 'type': 'string'},\n",
    "                'physical_qubits': {'description': 'List of physical qubits to use.', 'type': 'array'},\n",
    "                'error_matrix': {'description': 'Measurement error matrix to be passed to the MeasurementFilter.', 'type': 'array'},\n",
    "                'max_sweeps': {'description': 'Number of parameter sweeps for sequential minimum optimization.', 'type': 'number'},\n",
    "                'minimizer_shots_per_job': {'description': 'Number of shots per job to use for sequential minimum optimization.', 'type': 'number'},\n",
    "                'minimizer_jobs': {'description': 'Number of jobs to use for sequential minimum optimization.', 'type': 'number'},\n",
    "                'forward_shots': {'description': 'Number of shots to use for the forward steps of RQD.', 'type': 'number'},\n",
    "                'resume_from': {'description': 'Minimizer parameters to resume RQD.', 'type': 'object'}\n",
    "            },\n",
    "            'required': ['num_sites', 'aJ', 'am', 'omegadt', 'num_tsteps', 'tsteps_per_rqd']\n",
    "        },\n",
    "        'return_values': {'$schema': json_schema, 'description': 'All done!', 'type': 'string'},\n",
    "        'interim_results': {\n",
    "            '$schema': json_schema,\n",
    "            'type': 'object',\n",
    "            'properties': {\n",
    "                'rqd_step': {'description': 'RQD iteration number.', 'type': 'number'},\n",
    "                'forward_counts': {'description': 'List of counts dictionaries of the Trotter steps in one RQD step.', 'type': 'array'},\n",
    "                'optimal_params': {'description': 'Optimal ansatz parameter values from the previous RQD step.', 'type': 'array'},\n",
    "                'shots_values': {'description': 'Array of cumulative shot numbers during the RQD iteration', 'type': 'array'},\n",
    "                'cost_values': {'description': 'Array of the cost value evolution during the RQD iteration', 'type': 'array'},\n",
    "                'state': {'description': 'Current state of the minimizer.', 'type': 'object'},\n",
    "                'minimizer_state': {'description': 'Current strategy-specific state of the minimizer.', 'type': 'object'}\n",
    "            }\n",
    "        }\n",
    "    }\n",
    "}"
   ]
  },
  {
   "cell_type": "markdown",
   "id": "65f5d00c-d446-42e5-895b-b6fa8a16e592",
   "metadata": {},
   "source": [
    "## Upload the program"
   ]
  },
  {
   "cell_type": "code",
   "execution_count": 5,
   "id": "b9616f57-974c-4ffa-92ad-fefe406b46fa",
   "metadata": {},
   "outputs": [],
   "source": [
    "program_id = 'schwinger-rqd-oGExmQ8LjP'\n",
    "\n",
    "if not program_id:\n",
    "    program_id = provider.runtime.upload_program(\n",
    "        data=program_path,\n",
    "        metadata=metadata)\n",
    "    \n",
    "    print(program_id)\n",
    "\n",
    "else:\n",
    "    provider.runtime.update_program(\n",
    "        program_id,\n",
    "        data=program_path,\n",
    "        metadata=metadata)"
   ]
  }
 ],
 "metadata": {
  "kernelspec": {
   "display_name": "Python 3 (ipykernel)",
   "language": "python",
   "name": "python3"
  },
  "language_info": {
   "codemirror_mode": {
    "name": "ipython",
    "version": 3
   },
   "file_extension": ".py",
   "mimetype": "text/x-python",
   "name": "python",
   "nbconvert_exporter": "python",
   "pygments_lexer": "ipython3",
   "version": "3.8.10"
  }
 },
 "nbformat": 4,
 "nbformat_minor": 5
}
