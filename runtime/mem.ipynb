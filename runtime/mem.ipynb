{
 "cells": [
  {
   "cell_type": "code",
   "execution_count": 1,
   "id": "31ee298b-6401-44ac-aef0-ae6fa1ad219b",
   "metadata": {},
   "outputs": [],
   "source": [
    "import os\n",
    "import sys\n",
    "from qiskit import IBMQ\n",
    "sys.path.append(os.path.dirname(os.getcwd()))\n",
    "from calibrations import MeasurementErrorExperiment"
   ]
  },
  {
   "cell_type": "code",
   "execution_count": 2,
   "id": "126ba9fa-6b23-45ca-b626-163bfecd9064",
   "metadata": {},
   "outputs": [],
   "source": [
    "provider = IBMQ.load_account()\n",
    "backend = provider.get_backend('ibmq_lima')\n",
    "physical_qubits = [1, 2]"
   ]
  },
  {
   "cell_type": "code",
   "execution_count": 3,
   "id": "bf204264-63b5-4197-9909-63338b3d93b5",
   "metadata": {},
   "outputs": [
    {
     "name": "stdout",
     "output_type": "stream",
     "text": [
      "6e22b85a-4d97-445d-9832-438cacc06050\n"
     ]
    },
    {
     "data": {
      "image/png": "[encoded data removed]",
      "text/plain": [
       "<Figure size 432x288 with 2 Axes>"
      ]
     },
     "metadata": {
      "needs_background": "light"
     },
     "output_type": "display_data"
    }
   ],
   "source": [
    "exp = MeasurementErrorExperiment(physical_qubits, circuits_per_state=(backend.configuration().max_experiments // 32))\n",
    "exp_data = exp.run(backend=backend, shots=8192)\n",
    "print(exp_data.experiment_id)\n",
    "mem_experiment_id = exp_data.experiment_id\n",
    "exp_data.block_for_results()\n",
    "exp_data.save()"
   ]
  },
  {
   "cell_type": "code",
   "execution_count": null,
   "id": "016388a7-f90a-4e8b-b3a5-b8d3ab0cff3c",
   "metadata": {},
   "outputs": [],
   "source": []
  }
 ],
 "metadata": {
  "kernelspec": {
   "display_name": "Python 3 (ipykernel)",
   "language": "python",
   "name": "python3"
  },
  "language_info": {
   "codemirror_mode": {
    "name": "ipython",
    "version": 3
   },
   "file_extension": ".py",
   "mimetype": "text/x-python",
   "name": "python",
   "nbconvert_exporter": "python",
   "pygments_lexer": "ipython3",
   "version": "3.8.10"
  }
 },
 "nbformat": 4,
 "nbformat_minor": 5
}
