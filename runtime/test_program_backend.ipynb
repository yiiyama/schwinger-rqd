{
 "cells": [
  {
   "cell_type": "code",
   "execution_count": null,
   "id": "82521bd8-5251-44b2-a4c6-444203d544ae",
   "metadata": {},
   "outputs": [],
   "source": [
    "import os\n",
    "from qiskit import IBMQ\n",
    "from qiskit.providers.ibmq.runtime import UserMessenger\n",
    "from qiskit.providers.ibmq.runtime.exceptions import QiskitRuntimeError, RuntimeProgramNotFound\n",
    "from program_backend import main\n",
    "\n",
    "this_dir = os.getcwd()\n",
    "\n",
    "program_path = os.path.join(this_dir, 'program_backend.py')"
   ]
  },
  {
   "cell_type": "code",
   "execution_count": null,
   "id": "ec4ebe88-d91b-4eff-884e-39241919c9c5",
   "metadata": {},
   "outputs": [],
   "source": [
    "provider = IBMQ.load_account()\n",
    "backend = provider.get_backend('ibmq_lima')"
   ]
  },
  {
   "cell_type": "code",
   "execution_count": null,
   "id": "446d2c9c-914a-4173-8704-8223e9a1b22a",
   "metadata": {},
   "outputs": [],
   "source": [
    "cred = provider.credentials\n",
    "inputs = {'api_token': cred.access_token, 'hub': cred.hub, 'group': cred.group, 'project': cred.project, 'qubits': [3, 4]}"
   ]
  },
  {
   "cell_type": "code",
   "execution_count": null,
   "id": "b98a16ed-609e-4287-a7df-dc6f53d6fbdf",
   "metadata": {},
   "outputs": [],
   "source": [
    "ibmq_backend = main(backend, UserMessenger(), **inputs)"
   ]
  },
  {
   "cell_type": "code",
   "execution_count": null,
   "id": "7363aa22-f075-41c5-a36f-c21da914ac88",
   "metadata": {},
   "outputs": [],
   "source": [
    "program_id = ''\n",
    "\n",
    "if True:\n",
    "    json_schema = 'https://json-schema.org/draft/2019-09/schema'\n",
    "    \n",
    "    metadata = {\n",
    "        'name': 'backend-dumper-nativeq',\n",
    "        'max_execution_time': 60,\n",
    "        'description': 'Dump the parameters of the mysterious RuntimeBackend object.',\n",
    "        'is_public': False,\n",
    "        'spec': {\n",
    "            'backend_requirements': {'min_num_qubits': 2},\n",
    "            'parameters': {\n",
    "                '$schema': json_schema,\n",
    "                'properties': {\n",
    "                    'api_token': {\n",
    "                        'type': 'string',\n",
    "                        'description': 'IBMQ API token.'\n",
    "                    },\n",
    "                    'hub': {\n",
    "                        'type': 'string',\n",
    "                        'description': 'Hub name.'\n",
    "                    },\n",
    "                    'group': {\n",
    "                        'type': 'string',\n",
    "                        'description': 'Group name.'\n",
    "                    },\n",
    "                    'project': {\n",
    "                        'type': 'string',\n",
    "                        'description': 'Project name.'\n",
    "                    },\n",
    "                    'qubits': {\n",
    "                        'type': 'array',\n",
    "                        'description': 'Physical qubits.'\n",
    "                    }\n",
    "                },\n",
    "                'required': ['api_token', 'hub', 'group', 'project', 'qubits']\n",
    "            },\n",
    "            'return_values': {\n",
    "                '$schema': json_schema,\n",
    "                'type': 'object',\n",
    "                'description': 'Dump of the backend parameters.'\n",
    "            }\n",
    "            #'interim_results': {'$schema': json_schema, 'type': str, 'description': 'Interim message'}\n",
    "        }\n",
    "    }\n",
    "\n",
    "    ## Upload or update the program\n",
    "    \n",
    "    if not program_id:\n",
    "        program_id = provider.runtime.upload_program(\n",
    "            data=program_path,\n",
    "            metadata=metadata\n",
    "        )\n",
    "\n",
    "        print('Uploaded program with id', program_id)\n",
    "        \n",
    "    else:\n",
    "        provider.runtime.update_program(program_id, data=program_path, metadata=metadata)"
   ]
  },
  {
   "cell_type": "code",
   "execution_count": null,
   "id": "edb43132-9236-4e1a-a067-b8e80efe4db3",
   "metadata": {},
   "outputs": [],
   "source": [
    "options = {'backend_name': backend.name()}\n",
    "job = provider.runtime.run(\n",
    "    program_id=program_id,\n",
    "    options=options,\n",
    "    inputs=inputs\n",
    ")\n",
    "\n",
    "print('job id:', job.job_id())\n",
    "runtime_backend = job.result()"
   ]
  },
  {
   "cell_type": "code",
   "execution_count": null,
   "id": "c151798e-d5b4-409b-adfd-7d7e2ca145d5",
   "metadata": {},
   "outputs": [],
   "source": []
  }
 ],
 "metadata": {
  "kernelspec": {
   "display_name": "Python 3 (ipykernel)",
   "language": "python",
   "name": "python3"
  },
  "language_info": {
   "codemirror_mode": {
    "name": "ipython",
    "version": 3
   },
   "file_extension": ".py",
   "mimetype": "text/x-python",
   "name": "python",
   "nbconvert_exporter": "python",
   "pygments_lexer": "ipython3",
   "version": "3.8.10"
  }
 },
 "nbformat": 4,
 "nbformat_minor": 5
}
