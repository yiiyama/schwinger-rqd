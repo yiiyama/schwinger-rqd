{
 "cells": [
  {
   "cell_type": "code",
   "execution_count": null,
   "id": "9f798b0c-7c54-4b45-88cd-a178f5ec30ed",
   "metadata": {},
   "outputs": [],
   "source": [
    "import sys\n",
    "import json\n",
    "import copy\n",
    "import logging\n",
    "import numpy as np\n",
    "import matplotlib.pyplot as plt\n",
    "\n",
    "from qiskit import Aer, QuantumCircuit, QuantumRegister, transpile\n",
    "from qiskit.ignis.mitigation.measurement import complete_meas_cal, MeasurementFilter\n",
    "from qiskit.providers.ibmq.runtime.utils import RuntimeEncoder, RuntimeDecoder\n",
    "#from qiskit.providers.ibmq.runtime import UserMessenger\n",
    "\n",
    "#logging.basicConfig(level=logging.WARNING, format='%(asctime)s: %(message)s')\n",
    "#logging.getLogger('schwinger_rqd').setLevel(logging.INFO)\n",
    "\n",
    "sys.path.append('..')\n",
    "from main import make_step_circuits, run_forward_circuits, rqd_step, main\n",
    "from pnp_ansatze import make_pnp_ansatz\n",
    "from observables import plot_counts_with_curve\n",
    "from trotter import trotter_step_circuits"
   ]
  },
  {
   "cell_type": "markdown",
   "id": "c0f323f0-f720-4c84-bac5-365b9dfe67ea",
   "metadata": {},
   "source": [
    "## Runtime job input"
   ]
  },
  {
   "cell_type": "code",
   "execution_count": null,
   "id": "ebb00906-d915-4f90-9ffe-22309a6a86c1",
   "metadata": {},
   "outputs": [],
   "source": [
    "inputs = {\n",
    "    'num_sites': 4,\n",
    "    'aJ': 1.,\n",
    "    'am': 0.5,\n",
    "    'omegadt': 0.2,\n",
    "    'num_tsteps': 4,\n",
    "    'tsteps_per_rqd': 2,\n",
    "    'error_matrix': np.eye(16, dtype='f8'),\n",
    "    'physical_qubits': None,\n",
    "    'minimizer_shots_per_job': 1000,\n",
    "    'minimizer_jobs': 2,\n",
    "    'forward_shots': 2 * 8192,\n",
    "    'max_sweeps': 100\n",
    "}\n",
    "\n",
    "logging.getLogger('four_qubit_schwinger').setLevel(logging.INFO)"
   ]
  },
  {
   "cell_type": "markdown",
   "id": "bd137c92-579f-4ba9-b4b0-1412309f8668",
   "metadata": {},
   "source": [
    "## Testing just the forward steps"
   ]
  },
  {
   "cell_type": "code",
   "execution_count": null,
   "id": "3c11406d-ec4b-4241-a417-f44bf6a9e65c",
   "metadata": {},
   "outputs": [],
   "source": [
    "backend = Aer.get_backend('statevector_simulator')\n",
    "\n",
    "num_sites = inputs['num_sites']\n",
    "aJ = inputs['aJ']\n",
    "am = inputs['am']\n",
    "omegadt = inputs['omegadt']\n",
    "num_tsteps = inputs['num_tsteps']\n",
    "physical_qubits = inputs['physical_qubits']\n",
    "error_matrix = inputs['error_matrix']\n",
    "forward_shots = inputs['forward_shots']\n",
    "\n",
    "_, state_labels = complete_meas_cal(qubit_list=list(range(num_sites)), qr=QuantumRegister(num_sites), circlabel='mcal')\n",
    "error_mitigation_filter = MeasurementFilter(error_matrix, state_labels)\n",
    "\n",
    "forward_circuits = make_step_circuits(num_sites, aJ, am, omegadt, backend, physical_qubits)\n",
    "\n",
    "target_circuits = trotter_step_circuits(num_tsteps, forward_circuits, initial_state=None, measure=False)\n",
    "\n",
    "counts_list = run_forward_circuits(target_circuits, backend, initial_layout=physical_qubits, shots=forward_shots, error_mitigation_filter=error_mitigation_filter)\n",
    "\n",
    "plot_counts_with_curve(counts_list, num_sites, aJ, am, omegadt, num_tsteps, initial_state=None, num_toys=0)"
   ]
  },
  {
   "cell_type": "markdown",
   "id": "a532637f-6b43-4eb6-bd14-d44ca3aa3d2c",
   "metadata": {},
   "source": [
    "## A UserMessenger class that saves all published results"
   ]
  },
  {
   "cell_type": "code",
   "execution_count": null,
   "id": "fa7425f9-f2d8-4884-a5b8-46cc9e8a32c2",
   "metadata": {},
   "outputs": [],
   "source": [
    "class UserMessenger:\n",
    "    \"\"\"Base class for handling communication with program users.\n",
    "\n",
    "    This class can be used when writing a new Qiskit Runtime program.\n",
    "    \"\"\"\n",
    "    \n",
    "    def __init__(self):\n",
    "        self.results = []\n",
    "\n",
    "    def publish(\n",
    "            self,\n",
    "            message,\n",
    "            encoder=None,\n",
    "            final=False\n",
    "    ) -> None:\n",
    "        self.results.append(message)"
   ]
  },
  {
   "cell_type": "markdown",
   "id": "d95d3d7a-d565-45ca-aba3-1866cc407509",
   "metadata": {},
   "source": [
    "## Testing one RQD step"
   ]
  },
  {
   "cell_type": "code",
   "execution_count": null,
   "id": "b4afddf2-b53f-4c47-810b-5687308e2d00",
   "metadata": {},
   "outputs": [],
   "source": [
    "backend = Aer.get_backend('qasm_simulator')\n",
    "\n",
    "num_sites = inputs['num_sites']\n",
    "aJ = inputs['aJ']\n",
    "am = inputs['am']\n",
    "omegadt = inputs['omegadt']\n",
    "tsteps_per_rqd = inputs['tsteps_per_rqd']\n",
    "physical_qubits = inputs['physical_qubits']\n",
    "error_matrix = inputs['error_matrix']\n",
    "\n",
    "_, state_labels = complete_meas_cal(qubit_list=list(range(num_sites)), qr=QuantumRegister(num_sites), circlabel='mcal')\n",
    "error_mitigation_filter = MeasurementFilter(error_matrix, state_labels)\n",
    "\n",
    "forward_step_circuits = make_step_circuits(num_sites, aJ, am, omegadt, backend, physical_qubits)\n",
    "    \n",
    "if num_sites == 2:\n",
    "    approximator = make_pnp_ansatz(\n",
    "        num_qubits=num_sites,\n",
    "        num_layers=num_sites // 2,\n",
    "        initial_x_positions=[0])\n",
    "elif num_sites == 4:\n",
    "    approximator = make_pnp_ansatz(\n",
    "        num_qubits=num_sites,\n",
    "        num_layers=num_sites // 2,\n",
    "        initial_x_positions=[1, 2],\n",
    "        structure=[(1, 2), (0, 1), (2, 3)],\n",
    "        first_layer_structure=[(0, 1), (2, 3)])\n",
    "    \n",
    "user_messenger = UserMessenger()\n",
    "\n",
    "optimal_params = rqd_step(\n",
    "    0,\n",
    "    inputs,\n",
    "    backend,\n",
    "    forward_step_circuits,\n",
    "    approximator,\n",
    "    error_mitigation_filter=error_mitigation_filter,\n",
    "    user_messenger=user_messenger\n",
    ")"
   ]
  },
  {
   "cell_type": "code",
   "execution_count": null,
   "id": "9cea7fa0-686c-4578-b193-e56ff5e0c296",
   "metadata": {},
   "outputs": [],
   "source": [
    "plt.plot(user_messenger.results[-1]['shots_values'], user_messenger.results[-1]['cost_values'])"
   ]
  },
  {
   "cell_type": "code",
   "execution_count": null,
   "id": "dd8661dc-3c36-4635-b238-b6b1e6ac9a1b",
   "metadata": {},
   "outputs": [],
   "source": [
    "plot_counts_with_curve(user_messenger.results[0]['forward_counts'], num_sites, aJ, am, omegadt, tsteps_per_rqd, initial_state=None, num_toys=0)"
   ]
  },
  {
   "cell_type": "code",
   "execution_count": null,
   "id": "92193ac6-ffa7-45f7-bcb6-828c88a47d88",
   "metadata": {},
   "outputs": [],
   "source": [
    "user_messenger_2 = UserMessenger()\n",
    "\n",
    "optimal_params = rqd_step(\n",
    "    1,\n",
    "    inputs,\n",
    "    backend,\n",
    "    forward_step_circuits,\n",
    "    approximator,\n",
    "    optimal_params=optimal_params,\n",
    "    error_mitigation_filter=error_mitigation_filter,\n",
    "    user_messenger=user_messenger_2\n",
    ")"
   ]
  },
  {
   "cell_type": "code",
   "execution_count": null,
   "id": "c0a35042-a213-464a-b709-39a76feee57a",
   "metadata": {},
   "outputs": [],
   "source": [
    "plt.plot(user_messenger_2.results[-1]['shots_values'], user_messenger_2.results[-1]['cost_values'])"
   ]
  },
  {
   "cell_type": "code",
   "execution_count": null,
   "id": "2b33bd1a-16ef-468c-8359-3361c4cc62d0",
   "metadata": {},
   "outputs": [],
   "source": [
    "from hamiltonian import schwinger_model, diagonalized_evolution\n",
    "\n",
    "vacuum_state = np.zeros(2 ** num_sites, dtype=np.complex128)\n",
    "vacuum_state_index = 0\n",
    "for j in range(0, num_sites, 2):\n",
    "    vacuum_state_index += (1 << j)\n",
    "vacuum_state[vacuum_state_index] = 1.\n",
    "\n",
    "hamiltonian = schwinger_model(num_sites, aJ, am)\n",
    "_, statevectors = diagonalized_evolution(hamiltonian, vacuum_state, omegadt * tsteps_per_rqd)\n",
    "\n",
    "plot_counts_with_curve(user_messenger_2.results[0]['forward_counts'], num_sites, aJ, am, omegadt, tsteps_per_rqd, initial_state=statevectors[:, -1], num_toys=0)"
   ]
  },
  {
   "cell_type": "code",
   "execution_count": null,
   "id": "e982f0b8-3d90-49a1-a74a-a6a9eeff07cc",
   "metadata": {},
   "outputs": [],
   "source": [
    "plot_counts_with_curve(user_messenger.results[0]['forward_counts'] + user_messenger_2.results[0]['forward_counts'], num_sites, aJ, am, omegadt, tsteps_per_rqd * 2, initial_state=None, num_toys=0)"
   ]
  },
  {
   "cell_type": "markdown",
   "id": "25dfa439-cf9a-486e-99ff-7ee08274cc49",
   "metadata": {},
   "source": [
    "## Testing the main function"
   ]
  },
  {
   "cell_type": "code",
   "execution_count": null,
   "id": "6a3cef4c-f342-41de-b026-229fae25e5a6",
   "metadata": {},
   "outputs": [],
   "source": [
    "class UserMessengerForwardOnly:\n",
    "    \"\"\"Base class for handling communication with program users.\n",
    "\n",
    "    This class can be used when writing a new Qiskit Runtime program.\n",
    "    \"\"\"\n",
    "    \n",
    "    def __init__(self):\n",
    "        self.results = []\n",
    "\n",
    "    def publish(\n",
    "            self,\n",
    "            message,\n",
    "            encoder=None,\n",
    "            final=False\n",
    "    ) -> None:\n",
    "        if 'forward_counts' not in message:\n",
    "            return\n",
    "        \n",
    "        self.results.append(message)"
   ]
  },
  {
   "cell_type": "code",
   "execution_count": null,
   "id": "db7fe08a-9d90-40db-a76c-942359d98944",
   "metadata": {},
   "outputs": [],
   "source": [
    "backend = Aer.get_backend('qasm_simulator')\n",
    "\n",
    "serialized_inputs = json.dumps(inputs, cls=RuntimeEncoder)\n",
    "deserialized_inputs = json.loads(serialized_inputs, cls=RuntimeDecoder)\n",
    "\n",
    "user_messenger_fw = UserMessengerForwardOnly()\n",
    "\n",
    "main(backend, user_messenger_fw, **deserialized_inputs)"
   ]
  },
  {
   "cell_type": "code",
   "execution_count": null,
   "id": "a18f3051-8660-4195-9f9a-008e255b624a",
   "metadata": {},
   "outputs": [],
   "source": [
    "forward_counts = []\n",
    "for res in user_messenger_fw.results:\n",
    "    forward_counts += res['forward_counts']\n",
    "    \n",
    "plot_counts_with_curve(forward_counts, inputs['num_sites'], inputs['aJ'], inputs['am'], inputs['omegadt'], inputs['num_tsteps'], initial_state=None, num_toys=0)"
   ]
  },
  {
   "cell_type": "code",
   "execution_count": null,
   "id": "0074ea90-7e9f-47ff-9cba-f69c7d0da9c8",
   "metadata": {},
   "outputs": [],
   "source": [
    "interim_result = user_messenger.results[-3]\n",
    "print(interim_result)"
   ]
  },
  {
   "cell_type": "code",
   "execution_count": null,
   "id": "2b4b3a92-a21e-4c08-bd56-b09768970439",
   "metadata": {},
   "outputs": [],
   "source": [
    "inputs['resume_from'] = {\n",
    "    'rqd_step': interim_result['rqd_step'],\n",
    "    'state': interim_result['state'],\n",
    "    'minimizer_state': interim_result['minimizer_state']\n",
    "}\n",
    "\n",
    "serialized_inputs = json.dumps(inputs, cls=RuntimeEncoder)\n",
    "deserialized_inputs = json.loads(serialized_inputs, cls=RuntimeDecoder)\n",
    "\n",
    "user_messenger_fw_2 = UserMessengerForwardOnly()\n",
    "\n",
    "main(backend, user_messenger_fw_2, **deserialized_inputs)"
   ]
  },
  {
   "cell_type": "code",
   "execution_count": null,
   "id": "7c5e35b7-6c41-452b-88c7-d0a388eb8752",
   "metadata": {},
   "outputs": [],
   "source": [
    "forward_counts = copy.deepcopy(user_messenger_fw.results[0]['forward_counts'])\n",
    "for res in user_messenger_fw_2.results:\n",
    "    forward_counts += res['forward_counts']\n",
    "\n",
    "plot_counts_with_curve(forward_counts, inputs['num_sites'], inputs['aJ'], inputs['am'], inputs['omegadt'], inputs['num_tsteps'], initial_state=None, num_toys=0)"
   ]
  }
 ],
 "metadata": {
  "kernelspec": {
   "display_name": "Python 3 (ipykernel)",
   "language": "python",
   "name": "python3"
  },
  "language_info": {
   "codemirror_mode": {
    "name": "ipython",
    "version": 3
   },
   "file_extension": ".py",
   "mimetype": "text/x-python",
   "name": "python",
   "nbconvert_exporter": "python",
   "pygments_lexer": "ipython3",
   "version": "3.8.10"
  }
 },
 "nbformat": 4,
 "nbformat_minor": 5
}
