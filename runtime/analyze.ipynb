{
 "cells": [
  {
   "cell_type": "code",
   "execution_count": null,
   "id": "c534971a-326b-4c6c-acf6-077a61c7a4bb",
   "metadata": {},
   "outputs": [],
   "source": [
    "import os\n",
    "import sys\n",
    "import copy\n",
    "import numpy as np\n",
    "import matplotlib.pyplot as plt\n",
    "import h5py\n",
    "\n",
    "sys.path.append(os.path.dirname(os.getcwd()))\n",
    "from observables import plot_counts_with_curve"
   ]
  },
  {
   "cell_type": "code",
   "execution_count": null,
   "id": "140c2d29-323d-442e-9ad1-b3a8c76e7f01",
   "metadata": {},
   "outputs": [],
   "source": [
    "backend_name = 'ibm_kawasaki'\n",
    "physical_qubits = [4, 7]\n",
    "\n",
    "num_sites = 2\n",
    "num_tsteps = 8\n",
    "tsteps_per_rqd = 2\n",
    "num_rqd_steps = num_tsteps // tsteps_per_rqd\n",
    "\n",
    "aJ = 1.\n",
    "am = 0.5\n",
    "omegadt = 0.2"
   ]
  },
  {
   "cell_type": "code",
   "execution_count": null,
   "id": "baa10c4e-50c5-47e8-904c-0ef60a2de1a2",
   "metadata": {},
   "outputs": [],
   "source": [
    "results_file_name = f'{backend_name}_{\"_\".join(map(str, physical_qubits))}.h5'\n",
    "state_file_name = f'{backend_name}_{\"_\".join(map(str, physical_qubits))}_state.pkl'"
   ]
  },
  {
   "cell_type": "code",
   "execution_count": null,
   "id": "81f02683-2c65-41c1-9ad7-60be41b76b0a",
   "metadata": {},
   "outputs": [],
   "source": [
    "with h5py.File(results_file_name, 'r') as source:\n",
    "    forward_counts = []\n",
    "    fmt = '{:0%db}' % num_sites\n",
    "    for arr in source['forward_counts']:\n",
    "        forward_counts.append(dict((fmt.format(k), v) for k, v in enumerate(arr)))\n",
    "        \n",
    "    plot_counts_with_curve(forward_counts, num_sites, aJ, am, omegadt, num_tsteps, initial_state=None, num_toys=0)"
   ]
  },
  {
   "cell_type": "code",
   "execution_count": null,
   "id": "2d6e8cc4-2469-460e-b3aa-d9605fbc1c99",
   "metadata": {},
   "outputs": [],
   "source": [
    "with h5py.File(results_file_name, 'r') as source:\n",
    "    for rqd_step in range(num_rqd_steps):\n",
    "        plt.subplots(1, 1)\n",
    "        num_sweeps = source['num_sweeps'][rqd_step]\n",
    "        plt.plot(source['shots'][rqd_step, :num_sweeps], source['costs'][rqd_step, :num_sweeps])\n",
    "        plt.title('RQD step {}'.format(rqd_step))"
   ]
  },
  {
   "cell_type": "code",
   "execution_count": null,
   "id": "16d28903-021c-4b61-b959-770281493593",
   "metadata": {},
   "outputs": [],
   "source": []
  }
 ],
 "metadata": {
  "kernelspec": {
   "display_name": "Python 3 (ipykernel)",
   "language": "python",
   "name": "python3"
  },
  "language_info": {
   "codemirror_mode": {
    "name": "ipython",
    "version": 3
   },
   "file_extension": ".py",
   "mimetype": "text/x-python",
   "name": "python",
   "nbconvert_exporter": "python",
   "pygments_lexer": "ipython3",
   "version": "3.8.10"
  }
 },
 "nbformat": 4,
 "nbformat_minor": 5
}
