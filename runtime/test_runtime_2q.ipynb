{
 "cells": [
  {
   "cell_type": "code",
   "execution_count": null,
   "id": "9f798b0c-7c54-4b45-88cd-a178f5ec30ed",
   "metadata": {},
   "outputs": [],
   "source": [
    "import sys\n",
    "import json\n",
    "import logging\n",
    "import numpy as np\n",
    "import matplotlib.pyplot as plt\n",
    "\n",
    "from qiskit import Aer, QuantumCircuit, QuantumRegister, transpile\n",
    "from qiskit.ignis.mitigation.measurement import complete_meas_cal, MeasurementFilter\n",
    "from qiskit.providers.ibmq.runtime.utils import RuntimeEncoder, RuntimeDecoder\n",
    "#from qiskit.providers.ibmq.runtime import UserMessenger\n",
    "\n",
    "sys.path.append('..')\n",
    "from main import make_step_circuits, run_forward_circuits, run_fisc, main\n",
    "from pnp_ansatze import make_pnp_ansatz\n",
    "from observables import plot_counts_with_curve\n",
    "from trotter import trotter_step_circuits\n",
    "from sequential_minimizer import IdealCost\n",
    "from hamiltonian import schwinger_model, diagonalized_evolution"
   ]
  },
  {
   "cell_type": "markdown",
   "id": "c0f323f0-f720-4c84-bac5-365b9dfe67ea",
   "metadata": {},
   "source": [
    "## Runtime job input"
   ]
  },
  {
   "cell_type": "code",
   "execution_count": null,
   "id": "ebb00906-d915-4f90-9ffe-22309a6a86c1",
   "metadata": {},
   "outputs": [],
   "source": [
    "kwargs = {\n",
    "    'num_sites': 2,\n",
    "    'aJ': 1.,\n",
    "    'am': 0.5,\n",
    "    'omegadt': 0.2,\n",
    "    'num_tsteps': 8,\n",
    "    'tsteps_per_rqd': 2,\n",
    "    'error_matrix': np.eye(4, dtype='f8'),\n",
    "    'physical_qubits': None,\n",
    "    'minimizer_shots': 4096,\n",
    "    'forward_shots': 2 * 8192,\n",
    "    'max_sweeps': 100\n",
    "}\n",
    "\n",
    "logging.getLogger('schwinger_rqd').setLevel(logging.INFO)"
   ]
  },
  {
   "cell_type": "markdown",
   "id": "bd137c92-579f-4ba9-b4b0-1412309f8668",
   "metadata": {},
   "source": [
    "## Testing just the forward steps"
   ]
  },
  {
   "cell_type": "code",
   "execution_count": null,
   "id": "3c11406d-ec4b-4241-a417-f44bf6a9e65c",
   "metadata": {},
   "outputs": [],
   "source": [
    "backend = Aer.get_backend('statevector_simulator')\n",
    "\n",
    "num_sites = kwargs['num_sites']\n",
    "aJ = kwargs['aJ']\n",
    "am = kwargs['am']\n",
    "omegadt = kwargs['omegadt']\n",
    "num_tsteps = kwargs['num_tsteps']\n",
    "physical_qubits = kwargs['physical_qubits']\n",
    "error_matrix = kwargs['error_matrix']\n",
    "forward_shots = kwargs['forward_shots']\n",
    "\n",
    "_, state_labels = complete_meas_cal(qubit_list=list(range(num_sites)), qr=QuantumRegister(num_sites), circlabel='mcal')\n",
    "error_mitigation_filter = MeasurementFilter(error_matrix, state_labels)\n",
    "\n",
    "forward_step_circuits = make_step_circuits(num_sites, aJ, am, omegadt, backend, physical_qubits)\n",
    "\n",
    "target_circuits = trotter_step_circuits(num_tsteps, forward_step_circuits, initial_state=None, measure=False)\n",
    "\n",
    "counts_list = run_forward_circuits(target_circuits, backend, initial_layout=physical_qubits, shots=forward_shots, error_mitigation_filter=error_mitigation_filter)\n",
    "\n",
    "plot_counts_with_curve(counts_list, num_sites, aJ, am, omegadt, num_tsteps, initial_state=None, num_toys=0)"
   ]
  },
  {
   "cell_type": "markdown",
   "id": "d95d3d7a-d565-45ca-aba3-1866cc407509",
   "metadata": {},
   "source": [
    "## Testing one RQD step"
   ]
  },
  {
   "cell_type": "code",
   "execution_count": null,
   "id": "3662ca63-e39f-4c78-a236-b95f4d666424",
   "metadata": {},
   "outputs": [],
   "source": [
    "backend = Aer.get_backend('qasm_simulator')\n",
    "\n",
    "num_sites = kwargs['num_sites']\n",
    "aJ = kwargs['aJ']\n",
    "am = kwargs['am']\n",
    "omegadt = kwargs['omegadt']\n",
    "tsteps_per_rqd = kwargs['tsteps_per_rqd']\n",
    "max_sweeps = kwargs['max_sweeps']\n",
    "minimizer_shots = kwargs['minimizer_shots']\n",
    "forward_shots = kwargs['forward_shots']\n",
    "physical_qubits = kwargs['physical_qubits']\n",
    "error_matrix = kwargs['error_matrix']\n",
    "\n",
    "_, state_labels = complete_meas_cal(qubit_list=list(range(num_sites)), qr=QuantumRegister(num_sites), circlabel='mcal')\n",
    "error_mitigation_filter = MeasurementFilter(error_matrix, state_labels)\n",
    "\n",
    "forward_step_circuits = make_step_circuits(num_sites, aJ, am, omegadt, backend, physical_qubits)\n",
    "if not backend.configuration().simulator:\n",
    "    sim_forward_step_circuits = make_step_circuits(num_sites, aJ, am, omegadt, Aer.get_backend('statevector_simulator'), physical_qubits)\n",
    "\n",
    "if num_sites == 2:\n",
    "    approximator = make_pnp_ansatz(\n",
    "        num_qubits=num_sites,\n",
    "        num_layers=num_sites // 2,\n",
    "        initial_x_positions=[0])\n",
    "elif num_sites == 4:\n",
    "    approximator = make_pnp_ansatz(\n",
    "        num_qubits=num_sites,\n",
    "        num_layers=num_sites // 2,\n",
    "        initial_x_positions=[1, 2],\n",
    "        structure=[(1, 2), (0, 1), (2, 3)],\n",
    "        first_layer_structure=[(0, 1), (2, 3)])\n",
    "\n",
    "target_circuits = trotter_step_circuits(tsteps_per_rqd, forward_step_circuits, measure=False)\n",
    "\n",
    "forward_counts = run_forward_circuits(target_circuits, backend, initial_layout=physical_qubits, shots=forward_shots, error_mitigation_filter=error_mitigation_filter)\n",
    "\n",
    "compiler_circuit = target_circuits[-1].compose(approximator.inverse(), inplace=False)\n",
    "\n",
    "if backend.configuration().simulator:\n",
    "    ideal_cost = IdealCost(compiler_circuit)\n",
    "else:\n",
    "    targets = trotter_step_circuits(tsteps_per_rqd, sim_forward_step_circuits, measure=False)\n",
    "    ideal_cost = IdealCost(targets[-1].compose(approximator.inverse(), inplace=False))\n",
    "    \n",
    "def callback_publish_sweep_result(minimizer, arg):\n",
    "    sweep_result = {\n",
    "        'rqd_step': 0,\n",
    "        'isweep': arg['isweep'],\n",
    "        'param_val': arg['sweep_param_val'],\n",
    "        'cost': arg['sweep_cost'], \n",
    "        'total_shots': arg['current_shots'] + arg['sweep_shots']\n",
    "    }\n",
    "    print(sweep_result)\n",
    "\n",
    "optimal_params = run_fisc(compiler_circuit, backend, physical_qubits, max_sweeps, minimizer_shots, error_mitigation_filter, ideal_cost, callback_publish_sweep_result)"
   ]
  },
  {
   "cell_type": "code",
   "execution_count": null,
   "id": "9cea7fa0-686c-4578-b193-e56ff5e0c296",
   "metadata": {},
   "outputs": [],
   "source": [
    "plt.plot(ideal_cost.shots_sweep, ideal_cost.costs_sweep)"
   ]
  },
  {
   "cell_type": "code",
   "execution_count": null,
   "id": "dd8661dc-3c36-4635-b238-b6b1e6ac9a1b",
   "metadata": {},
   "outputs": [],
   "source": [
    "plot_counts_with_curve(forward_counts, num_sites, aJ, am, omegadt, tsteps_per_rqd, initial_state=None, num_toys=0)"
   ]
  },
  {
   "cell_type": "markdown",
   "id": "1a5f467d-1f6b-4f07-9b51-3d8269350ade",
   "metadata": {},
   "source": [
    "vacuum_state = np.zeros(2 ** num_sites, dtype=np.complex128)\n",
    "vacuum_state_index = 0\n",
    "for j in range(0, num_sites, 2):\n",
    "    vacuum_state_index += (1 << j)\n",
    "vacuum_state[vacuum_state_index] = 1.\n",
    "\n",
    "hamiltonian = schwinger_model(num_sites, aJ, am)\n",
    "_, statevectors = diagonalized_evolution(hamiltonian, vacuum_state, omegadt * tsteps_per_rqd)\n",
    "plot_counts_with_curve(forward_counts_2, num_sites, aJ, am, omegadt, tsteps_per_rqd, initial_state=statevectors[:, -1], num_toys=0)"
   ]
  },
  {
   "cell_type": "markdown",
   "id": "b191d1e9-2d5c-4dd5-a7fb-1cef86cf3615",
   "metadata": {},
   "source": [
    "plot_counts_with_curve(forward_counts + forward_counts_2, num_sites, aJ, am, omegadt, tsteps_per_rqd * 2, initial_state=None, num_toys=0)"
   ]
  },
  {
   "cell_type": "markdown",
   "id": "14e47ddf-c961-4328-bbb8-36744f1dc7bb",
   "metadata": {},
   "source": [
    "## Testing the main program"
   ]
  },
  {
   "cell_type": "code",
   "execution_count": null,
   "id": "9033e80c-3a7c-4b83-8f94-28392bfb532d",
   "metadata": {},
   "outputs": [],
   "source": [
    "class UserMessenger:\n",
    "    \"\"\"Base class for handling communication with program users.\n",
    "\n",
    "    This class can be used when writing a new Qiskit Runtime program.\n",
    "    \"\"\"\n",
    "    \n",
    "    def __init__(self):\n",
    "        self.interim_results = []\n",
    "\n",
    "    def publish(\n",
    "            self,\n",
    "            message,\n",
    "            encoder=RuntimeEncoder,\n",
    "            final=False\n",
    "    ):\n",
    "        \"\"\"Publish message.\n",
    "\n",
    "        You can use this method to publish messages, such as interim and final results,\n",
    "        to the program user. The messages will be made immediately available to the user,\n",
    "        but they may choose not to receive the messages.\n",
    "\n",
    "        The `final` parameter is used to indicate whether the message is\n",
    "        the final result of the program. Final results may be processed differently\n",
    "        from interim results.\n",
    "\n",
    "        Args:\n",
    "            message: Message to be published. Can be any type.\n",
    "            encoder: An optional JSON encoder for serializing\n",
    "            final: Whether the message being published is the final result.\n",
    "        \"\"\"\n",
    "        # pylint: disable=unused-argument\n",
    "        # Default implementation for testing.\n",
    "        self.interim_results.append(message)"
   ]
  },
  {
   "cell_type": "code",
   "execution_count": null,
   "id": "a261a6cb-df4e-47dc-bf3f-f530b7a783d1",
   "metadata": {},
   "outputs": [],
   "source": [
    "user_messenger = UserMessenger()\n",
    "serialized_inputs = json.dumps(kwargs, cls=RuntimeEncoder)\n",
    "deserialized_inputs = json.loads(serialized_inputs, cls=RuntimeDecoder)\n",
    "\n",
    "forward_counts, optimal_params_list = main(backend, user_messenger, **deserialized_inputs)"
   ]
  },
  {
   "cell_type": "code",
   "execution_count": null,
   "id": "edc14178-a5a6-4a24-b36b-1dcb2c45ddef",
   "metadata": {},
   "outputs": [],
   "source": [
    "plot_counts_with_curve(forward_counts, num_sites, aJ, am, omegadt, num_tsteps, initial_state=None, num_toys=0)"
   ]
  },
  {
   "cell_type": "markdown",
   "id": "63337b3d-7ad3-4140-9c74-94da784cb4e0",
   "metadata": {},
   "source": [
    "## Testing reentry"
   ]
  },
  {
   "cell_type": "code",
   "execution_count": null,
   "id": "f99bed94-aa7b-4e29-bef0-8d7540b4d136",
   "metadata": {},
   "outputs": [],
   "source": [
    "resume_rqd_step = -1\n",
    "resume_from = {}\n",
    "\n",
    "for message in user_messenger.interim_results:\n",
    "    if 'optimal_params' in message:\n",
    "        resume_from['optimal_params'] = message['optimal_params']\n",
    "        resume_from['rqd_step'] = message['rqd_step'] + 1\n",
    "        resume_rqd_step = message['rqd_step'] + 1\n",
    "        \n",
    "    if message['rqd_step'] == resume_rqd_step:\n",
    "        if 'forward_counts' in message:\n",
    "            resume_from['forward_counts'] = message['forward_counts']\n",
    "        \n",
    "        if 'isweep' in message and message['isweep'] == 2:\n",
    "            resume_from['current_sweep'] = message['isweep'] + 1\n",
    "            resume_from['param_val'] = message['param_val']\n",
    "            resume_from['current_cost'] = message['cost']\n",
    "            resume_from['total_shots'] = message['total_shots']\n",
    "            break\n",
    "            \n",
    "kwargs['resume_from'] = resume_from\n",
    "            \n",
    "user_messenger = UserMessenger()\n",
    "serialized_inputs = json.dumps(kwargs, cls=RuntimeEncoder)\n",
    "deserialized_inputs = json.loads(serialized_inputs, cls=RuntimeDecoder)\n",
    "\n",
    "forward_counts_res, optimal_params_list_res = main(backend, user_messenger, **deserialized_inputs)"
   ]
  },
  {
   "cell_type": "code",
   "execution_count": null,
   "id": "67f2f8e3-3e03-4bac-adfa-f1b559918e72",
   "metadata": {},
   "outputs": [],
   "source": [
    "plot_counts_with_curve(forward_counts + forward_counts_res, num_sites, aJ, am, omegadt, num_tsteps, initial_state=None, num_toys=0)"
   ]
  },
  {
   "cell_type": "code",
   "execution_count": null,
   "id": "d6cd823a-d90e-4c9c-8bac-04ab3d4c5e12",
   "metadata": {},
   "outputs": [],
   "source": []
  }
 ],
 "metadata": {
  "kernelspec": {
   "display_name": "Python 3 (ipykernel)",
   "language": "python",
   "name": "python3"
  },
  "language_info": {
   "codemirror_mode": {
    "name": "ipython",
    "version": 3
   },
   "file_extension": ".py",
   "mimetype": "text/x-python",
   "name": "python",
   "nbconvert_exporter": "python",
   "pygments_lexer": "ipython3",
   "version": "3.8.10"
  }
 },
 "nbformat": 4,
 "nbformat_minor": 5
}
