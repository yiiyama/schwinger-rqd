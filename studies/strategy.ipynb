{
 "cells": [
  {
   "cell_type": "markdown",
   "id": "82529246-a561-41da-8925-c8ff3452f4c3",
   "metadata": {},
   "source": [
    "# Comparison of sequential minimization strategies\n",
    "\n",
    "Run the sequential minimization of the 10-parameter ansatz over the local and global cost functions with the fit method for the cost function sections."
   ]
  },
  {
   "cell_type": "code",
   "execution_count": null,
   "id": "4f7ab4e8-73e0-4189-a29c-7e0ae6647998",
   "metadata": {},
   "outputs": [],
   "source": [
    "import sys\n",
    "import logging\n",
    "import numpy as np\n",
    "import matplotlib.pyplot as plt\n",
    "\n",
    "from qiskit import Aer, QuantumCircuit, transpile\n",
    "\n",
    "logging.basicConfig(level=logging.WARNING, format='%(asctime)s: %(message)s')\n",
    "logging.getLogger('schwinger_rqd').setLevel(logging.INFO)\n",
    "\n",
    "sys.path.append('..')\n",
    "from cost_sections import FitSecond, FitFirst, FitGeneral, FitSymmetric\n",
    "from pnp_ansatze import make_pnp_ansatz\n",
    "from cost_functions import global_cost_function, local_cost_function\n",
    "from sequential_minimizer import SequentialVCMinimizer, SectionGenSwitcher, IdealCost\n",
    "from rttgen import CNOTBasedRtt\n",
    "from cx_decomposition import cx_circuit\n",
    "from model_circuits import single_step, two_steps"
   ]
  },
  {
   "cell_type": "code",
   "execution_count": null,
   "id": "337226e9-205e-4fad-b899-3a34735061d0",
   "metadata": {},
   "outputs": [],
   "source": [
    "num_sites = 4\n",
    "aJ = 1.\n",
    "am = 0.5\n",
    "omegadt = 0.2\n",
    "# aJ = 0.7\n",
    "# am = 0.439\n",
    "# omegadt = 0.167\n",
    "num_tstep = 6\n",
    "\n",
    "backend = Aer.get_backend('statevector_simulator')\n",
    "physical_qubits = None"
   ]
  },
  {
   "cell_type": "code",
   "execution_count": null,
   "id": "25ff0a57-c83a-4faa-95c7-1e208338aeec",
   "metadata": {},
   "outputs": [],
   "source": [
    "def make_compiler_circuit():\n",
    "    qubit_pairs = list(zip(range(0, num_sites - 1), range(1, num_sites)))\n",
    "\n",
    "    rtts = dict((qubits, CNOTBasedRtt(backend, qubits)) for qubits in qubit_pairs)\n",
    "    cxs = dict((qubits, cx_circuit(backend, *qubits)) for qubits in qubit_pairs)\n",
    "    cxs.update((qubits[::-1], cx_circuit(backend, *qubits[::-1])) for qubits in qubit_pairs)\n",
    "\n",
    "    two_step_circuit = two_steps(num_sites, aJ, am, omegadt, rtts=rtts, cxs=cxs)\n",
    "\n",
    "    target_circuit = QuantumCircuit(num_sites)\n",
    "    target_circuit.x([0, 2])\n",
    "    target_circuit.compose(two_step_circuit, inplace=True)\n",
    "\n",
    "    uncomputer = make_pnp_ansatz(num_qubits=num_sites, num_layers=num_sites // 2, initial_x_positions=[1, 2], structure=[(1, 2), (0, 1), (2, 3)], first_layer_structure=[(0, 1), (2, 3)]).inverse()\n",
    "\n",
    "    return target_circuit.compose(uncomputer)"
   ]
  },
  {
   "cell_type": "code",
   "execution_count": null,
   "id": "612f1071-b6ab-48d2-af5b-7a916cd388aa",
   "metadata": {},
   "outputs": [],
   "source": [
    "def make_minimizer(compiler_circuit, cost_function):\n",
    "    section_generators = [FitGeneral] * len(compiler_circuit.parameters)\n",
    "    if compiler_circuit.num_qubits == 2:\n",
    "        section_generators[0] = FitSecond\n",
    "        section_generators[1] = FitFirst\n",
    "    elif compiler_circuit.num_qubits == 4:\n",
    "        section_generators[0] = FitSecond\n",
    "        section_generators[1] = FitFirst\n",
    "        section_generators[2] = FitSecond\n",
    "        section_generators[3] = FitFirst\n",
    "        section_generators[5] = FitFirst\n",
    "\n",
    "    minimizer = SequentialVCMinimizer(compiler_circuit, cost_function, section_generators, backend, shots_per_job=4096, num_jobs=1)\n",
    "\n",
    "    return minimizer"
   ]
  },
  {
   "cell_type": "code",
   "execution_count": null,
   "id": "618e9fcd-778d-40c2-ae3b-55c81c897b5a",
   "metadata": {},
   "outputs": [],
   "source": [
    "def callback_sweep(minimizer):\n",
    "    state = minimizer.state\n",
    "    if 'initial_param_val' in state:\n",
    "        distance = np.max(np.abs(state['param_val'] - state['initial_param_val']))\n",
    "        cost_update = state['cost'] - state['initial_cost']\n",
    "    else:\n",
    "        distance = 'n/a'\n",
    "        cost_update = 'n/a'\n",
    "        \n",
    "    print('isweep', state['isweep'], 'update distance', distance, 'cost', state['cost'], 'cost update', cost_update, 'total shots', state['shots'])\n",
    "    print('params [' + ', '.join(map(str, state['param_val'])) + ']')\n",
    "    \n",
    "def switch_to_gradient_descent(minimizer):\n",
    "    print('Switching to gradient descent at cost', minimizer.state['cost'])\n",
    "    minimizer.switch_strategy('gradient-descent')\n",
    "        \n",
    "def switch_to_gradient_descent_by_absolute_cost(minimizer):\n",
    "    if minimizer.state['strategy'] != 'gradient-descent' and minimizer.state['cost'] < 0.02:\n",
    "        switch_to_gradient_descent(minimizer)\n",
    "\n",
    "def switch_to_gradient_descent_by_cost_update(minimizer):\n",
    "    cost_update = minimizer.state['cost'] - minimizer.state['initial_cost']\n",
    "    if minimizer.state['strategy'] != 'gradient-descent' and cost_update < 0. and cost_update > -0.1:\n",
    "        switch_to_gradient_descent(minimizer)"
   ]
  },
  {
   "cell_type": "code",
   "execution_count": null,
   "id": "b3316317-c50c-4fae-8762-213ee81423e8",
   "metadata": {},
   "outputs": [],
   "source": [
    "import multiprocessing\n",
    "\n",
    "def run_minimizer(cost_type, strategy, queue):\n",
    "    if cost_type == 'local':\n",
    "        cost_function = local_cost_function\n",
    "    else:\n",
    "        cost_function = global_cost_function\n",
    "        \n",
    "    compiler_circuit = make_compiler_circuit()\n",
    "    \n",
    "    minimizer = make_minimizer(compiler_circuit, cost_function)\n",
    "    \n",
    "    ideal_cost = IdealCost(compiler_circuit)\n",
    "    minimizer.callbacks_sweep.append(ideal_cost.callback_sweep)\n",
    "        \n",
    "    if '_gradient-descent' in strategy:\n",
    "        minimizer.callbacks_sweep.append(switch_to_gradient_descent_by_cost_update)\n",
    "    \n",
    "    #switch_to_symmetric = SectionGenSwitcher(FitSymmetric, [4, 6, 7, 8, 9], 0.015)\n",
    "    #minimizer.callbacks_sweep.append(switch_to_symmetric.callback_sweep)\n",
    "    \n",
    "    initial_param_val = np.ones(len(compiler_circuit.parameters), dtype='f8') * np.pi / 4.\n",
    "    initial_strategy = strategy.replace('_gradient-descent', '')\n",
    "    param_val = minimizer.minimize(initial_param_val, strategy=initial_strategy)\n",
    "    \n",
    "    if queue:\n",
    "        queue.put((cost_type, strategy, param_val, ideal_cost.shots, ideal_cost.costs))\n",
    "    else:\n",
    "        return param_val, ideal_cost.shots, ideal_cost.costs\n",
    "    \n",
    "def driver():\n",
    "    procs = dict()\n",
    "    queue = multiprocessing.Queue()\n",
    "    for cost_type in ['local', 'global']:\n",
    "        for strategy in ['sequential', 'sequential_gradient-descent', 'largest-drop', 'largest-drop_gradient-descent']:\n",
    "            proc = multiprocessing.Process(target=run_minimizer, args=(cost_type, strategy, queue))\n",
    "            proc.start()\n",
    "            procs[(cost_type, strategy)] = proc\n",
    "            \n",
    "    results = dict()\n",
    "        \n",
    "    while len(procs) != 0:\n",
    "        cost_type, strategy, param_val, shots_values, cost_values = queue.get()\n",
    "        print('{} {} returned'.format(cost_type, strategy))\n",
    "        procs.pop((cost_type, strategy)).join()\n",
    "        results[(cost_type, strategy)] = (param_val, shots_values, cost_values)\n",
    "        \n",
    "    return results    "
   ]
  },
  {
   "cell_type": "code",
   "execution_count": null,
   "id": "daed0f3d-b29a-4567-ae9a-eb6c85a45ab4",
   "metadata": {},
   "outputs": [],
   "source": [
    "#results = driver()\n",
    "results = dict()\n",
    "for cost_type in ['local', 'global']:\n",
    "    for strategy in ['sequential', 'sequential_gradient-descent', 'largest-drop', 'largest-drop_gradient-descent']:\n",
    "        print(cost_type, strategy)\n",
    "        results[(cost_type, strategy)] = run_minimizer(cost_type, strategy, None)"
   ]
  },
  {
   "cell_type": "markdown",
   "id": "c04a2767-d075-4098-9a6a-54553ece1b22",
   "metadata": {},
   "source": [
    "## Strategy comparison"
   ]
  },
  {
   "cell_type": "code",
   "execution_count": null,
   "id": "d50bb31f-b070-4c1a-b985-bb5a109e856c",
   "metadata": {},
   "outputs": [],
   "source": [
    "res = results[('local', 'sequential')]\n",
    "plt.plot(res[1], res[2], label='local seq')\n",
    "res = results[('local', 'largest-drop')]\n",
    "plt.plot(res[1], res[2], label='local ld')\n",
    "res = results[('local', 'sequential_gradient-descent')]\n",
    "plt.plot(res[1], res[2], label='local seq_gd')\n",
    "res = results[('local', 'largest-drop_gradient-descent')]\n",
    "plt.plot(res[1], res[2], label='local ld_gd')\n",
    "res = results[('global', 'sequential')]\n",
    "plt.plot(res[1], res[2], label='global seq')\n",
    "res = results[('global', 'largest-drop')]\n",
    "plt.plot(res[1], res[2], label='global ld')\n",
    "res = results[('global', 'sequential_gradient-descent')]\n",
    "plt.plot(res[1], res[2], label='global seq_gd')\n",
    "res = results[('global', 'largest-drop_gradient-descent')]\n",
    "plt.plot(res[1], res[2], label='global ld_gd')\n",
    "plt.yscale('log')\n",
    "plt.legend()\n",
    "plt.title('Two steps');"
   ]
  },
  {
   "cell_type": "markdown",
   "id": "9035fc55-845f-465c-b6fe-63345a65e757",
   "metadata": {},
   "source": [
    "## Result validation\n",
    "\n",
    "Largest-drop with local cost function converged the fastest for two Trotter steps. Are the resulting parameter values good enough? Check with RQD."
   ]
  },
  {
   "cell_type": "code",
   "execution_count": null,
   "id": "13ddfa7d-92af-4ac0-9003-62d4a4356e97",
   "metadata": {},
   "outputs": [],
   "source": [
    "qubit_pairs = list(zip(range(0, num_sites - 1), range(1, num_sites)))\n",
    "\n",
    "rtts = dict((qubits, CNOTBasedRtt(backend, qubits)) for qubits in qubit_pairs)\n",
    "cxs = dict((qubits, cx_circuit(backend, *qubits)) for qubits in qubit_pairs)\n",
    "cxs.update((qubits[::-1], cx_circuit(backend, *qubits[::-1])) for qubits in qubit_pairs)\n",
    "two_step_circuit = two_steps(num_sites, aJ, am, omegadt, rtts=rtts, cxs=cxs)\n",
    "\n",
    "forward_circuit = make_pnp_ansatz(num_qubits=num_sites, num_layers=num_sites // 2, initial_x_positions=[1, 2], structure=[(1, 2), (0, 1), (2, 3)], first_layer_structure=[(0, 1), (2, 3)])\n",
    "forward_circuit.compose(two_step_circuit, inplace=True)\n",
    "\n",
    "param_dict = dict(zip(forward_circuit.parameters, results[('local', 'largest-drop')][0]))\n",
    "approx_statevector = backend.run(transpile(forward_circuit.assign_parameters(param_dict), backend=backend)).result().results[0].data.statevector\n",
    "\n",
    "true_circuit = QuantumCircuit(num_sites)\n",
    "true_circuit.x([0, 2])\n",
    "true_circuit.compose(two_step_circuit, inplace=True)\n",
    "true_circuit.compose(two_step_circuit, inplace=True)\n",
    "\n",
    "true_statevector = backend.run(transpile(true_circuit, backend=backend)).result().results[0].data.statevector\n",
    "\n",
    "print(np.square(np.abs(approx_statevector.conjugate() @ true_statevector)))"
   ]
  },
  {
   "cell_type": "code",
   "execution_count": null,
   "id": "35ff6367-7a96-435e-a70e-fceed8a0775a",
   "metadata": {},
   "outputs": [],
   "source": [
    "print(results[('local', 'largest-drop')][0])"
   ]
  },
  {
   "cell_type": "code",
   "execution_count": null,
   "id": "0c8302a8-5361-4368-bd7c-b23530dfc38a",
   "metadata": {},
   "outputs": [],
   "source": []
  }
 ],
 "metadata": {
  "kernelspec": {
   "display_name": "Python 3 (ipykernel)",
   "language": "python",
   "name": "python3"
  },
  "language_info": {
   "codemirror_mode": {
    "name": "ipython",
    "version": 3
   },
   "file_extension": ".py",
   "mimetype": "text/x-python",
   "name": "python",
   "nbconvert_exporter": "python",
   "pygments_lexer": "ipython3",
   "version": "3.8.10"
  }
 },
 "nbformat": 4,
 "nbformat_minor": 5
}
