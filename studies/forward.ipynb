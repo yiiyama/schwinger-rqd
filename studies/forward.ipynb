{
 "cells": [
  {
   "cell_type": "code",
   "execution_count": 1,
   "id": "d5c4ba7b-0b91-44f1-9243-75ae6a0dd38b",
   "metadata": {},
   "outputs": [],
   "source": [
    "import os\n",
    "import sys\n",
    "import numpy as np\n",
    "import matplotlib.pyplot as plt\n",
    "from qiskit import IBMQ, Aer, QuantumCircuit, transpile\n",
    "from qiskit.circuit import Gate\n",
    "import qiskit.compiler.transpiler as transpiler\n",
    "from qiskit.transpiler.passes import DynamicalDecoupling\n",
    "from qiskit.circuit.library import XGate\n",
    "from qiskit.tools.monitor import job_monitor\n",
    "from qiskit_experiments.database_service import DbExperimentDataV1 as DbExperimentData\n",
    "\n",
    "sys.path.append('..')\n",
    "from rttgen import LinearizedCR, PulseEfficientCR, CNOTBasedRtt\n",
    "from cx_decomposition import cx_circuit\n",
    "from calibrations import MeasurementErrorMitigation, MeasurementErrorExperiment, LinearizedCRRabiExperiment\n",
    "from model_circuits import single_step_no_opt, single_step, two_steps\n",
    "from trotter import trotter_step_circuits\n",
    "from transpile_with_dd import transpile_with_dynamical_decoupling\n",
    "from observables import combined_counts, plot_counts_with_curve"
   ]
  },
  {
   "cell_type": "code",
   "execution_count": 2,
   "id": "42c0babd-4ead-43d2-95d9-b53484a6b774",
   "metadata": {},
   "outputs": [],
   "source": [
    "nsites = 2\n",
    "\n",
    "aJ = 0.5 # Hamiltonian J parameter\n",
    "am = 0.25 # Hamiltonian mu parameter\n",
    "\n",
    "M = 17 # number of Trotter steps\n",
    "omegadt = np.pi * 0.6 / M # Trotter step size"
   ]
  },
  {
   "cell_type": "code",
   "execution_count": 3,
   "id": "cd2007b5-3886-4116-805c-fb1c3aa2db18",
   "metadata": {},
   "outputs": [],
   "source": [
    "provider = IBMQ.load_account()\n",
    "backend = provider.get_backend('ibm_lagos')\n",
    "physical_qubits = [1, 2]"
   ]
  },
  {
   "cell_type": "code",
   "execution_count": 4,
   "id": "67c522e5-3bdf-4b4a-87fd-ef3a88263829",
   "metadata": {},
   "outputs": [],
   "source": [
    "# # ibmq_jakarta [1, 3, 5, 6]\n",
    "# lcr_experiment_ids = {\n",
    "#     (1, 3): '3c6fff4e-70d5-4213-b35e-806889a6ba5d',\n",
    "#     (3, 5): '8226300a-4505-4c43-ab45-46edfd5ff890',\n",
    "#     (5, 6): 'c749fb50-6422-45f1-8635-ad36afc4a636'\n",
    "# }\n",
    "# mem_experiment_id = 'bcd21c47-462b-495a-b56e-52fd3b963dac'\n",
    "\n",
    "# ibmq_quito [2, 1, 3, 4]\n",
    "#lcr_experiment_ids = {\n",
    "#    (2, 1): '8b75a6fa-acfd-4c5f-a007-e01e0e8935b0',\n",
    "#    (1, 3): '526741cb-15b8-435a-b96f-52fd473e5cc5',\n",
    "#    (3, 4): '86c7660c-f1aa-4e90-bf69-83f8c5bb3764'\n",
    "#}\n",
    "#mem_experiment_id = '5195e012-c16b-46c7-8213-1e74e5e3303a'\n",
    "\n",
    "# ibmq_manila [1, 2, 3, 4]\n",
    "# lcr_experiment_ids = {\n",
    "#     (1, 2): '52729ad1-4b92-4cbc-8fad-8917da958786',\n",
    "#     (2, 3): 'a2daa511-2edd-4f3e-8842-3f8f78daeb19',\n",
    "#     (3, 4): '7dd46c29-23a6-4468-b1e4-6682285ef7a0'\n",
    "# }\n",
    "# mem_experiment_id = 'bded0990-72d4-403c-b3ec-360afac64fc9'\n",
    "\n",
    "#ibm_kawasaki \n",
    "# lcr_experiment_ids = {\n",
    "#     (1, 2): '',\n",
    "#     (2, 3): '',\n",
    "#     (3, 4): ''\n",
    "# }\n",
    "# mem_experiment_id = ''\n",
    "\n",
    "#ibm_lagos\n",
    "lcr_experiment_ids = {\n",
    "    (1, 3): 'a89e1fc4-3099-4004-92a6-b899002c696c',\n",
    "    (3, 5): '7d08fb09-2ec7-49da-8151-ffc08acdc8bd',\n",
    "    (5, 4): '76424e56-0d18-457d-8bd2-e2ba2363c3c7'\n",
    "}\n",
    "mem_experiment_id = '13039ead-4dc1-4059-8ac6-cf63434464b9'"
   ]
  },
  {
   "cell_type": "code",
   "execution_count": 5,
   "id": "d571dc36-b5dd-4adb-a336-4d05517460ec",
   "metadata": {},
   "outputs": [],
   "source": [
    "if not mem_experiment_id:\n",
    "    exp = MeasurementErrorExperiment(physical_qubits, circuits_per_state=(backend.configuration().max_experiments // 32))\n",
    "    exp_data = exp.run(backend=backend, shots=8192)\n",
    "    print(exp_data.experiment_id)\n",
    "    mem_experiment_id = exp_data.experiment_id\n",
    "    exp_data.block_for_results()\n",
    "    exp_data.save()"
   ]
  },
  {
   "cell_type": "code",
   "execution_count": 6,
   "id": "1d5d0429-2197-4ba1-9830-cf70904fb65a",
   "metadata": {},
   "outputs": [],
   "source": [
    "# for qubits in zip(physical_qubits[:-1], physical_qubits[1:]):\n",
    "#     if not lcr_experiment_ids[tuple(qubits)]:\n",
    "#         exp = LinearizedCRRabiExperiment(qubits, backend)\n",
    "#         exp.circuits_per_point = backend.configuration().max_experiments // exp.width_values.shape[0] // 2\n",
    "#         exp_data = exp.run(backend=backend, shots=8192)\n",
    "#         print(exp_data.experiment_id)\n",
    "#         lcr_experiment_ids[tuple(qubits)] = exp_data.experiment_id\n",
    "#         exp_data.block_for_results()\n",
    "#         exp_data.save()"
   ]
  },
  {
   "cell_type": "code",
   "execution_count": 7,
   "id": "8ac8027d-f0b8-4204-945b-1d5259209508",
   "metadata": {},
   "outputs": [],
   "source": [
    "mem = MeasurementErrorMitigation(backend, physical_qubits)\n",
    "\n",
    "# for lcr in rtts_linear.values():\n",
    "#     if lcr.native_direction:\n",
    "#         qubits = (lcr.z_qubit, lcr.x_qubit)\n",
    "#     else:\n",
    "#         qubits = (lcr.x_qubit, lcr.z_qubit)\n",
    "\n",
    "#     lcr.load_calibration(lcr_experiment_ids[qubits])\n",
    "\n",
    "mem.load_matrix(mem_experiment_id)"
   ]
  },
  {
   "cell_type": "markdown",
   "id": "311ec360-d1b4-46e1-bc7f-5e373432ddad",
   "metadata": {},
   "source": [
    "## Test on simulator"
   ]
  },
  {
   "cell_type": "code",
   "execution_count": 8,
   "id": "b1547bdb-c32c-456f-b352-8591b92419b1",
   "metadata": {},
   "outputs": [
    {
     "data": {
      "image/png": "[encoded data removed]",
      "text/plain": [
       "<Figure size 432x288 with 1 Axes>"
      ]
     },
     "metadata": {
      "needs_background": "light"
     },
     "output_type": "display_data"
    }
   ],
   "source": [
    "simulator = Aer.get_backend('qasm_simulator')\n",
    "rtts_sim = {\n",
    "    (0, 1): CNOTBasedRtt(simulator, (0, 1)),\n",
    "    (1, 2): CNOTBasedRtt(simulator, (1, 2)),\n",
    "    (2, 3): CNOTBasedRtt(simulator, (2, 3))\n",
    "}\n",
    "cxs_sim = {(0, 1): cx_circuit(simulator, 0, 1), (1, 0): cx_circuit(simulator, 1, 0)}\n",
    "\n",
    "single_step_circuit = single_step(nsites, aJ, am, omegadt, rtts=rtts_sim, cxs=cxs_sim)\n",
    "two_step_circuit = two_steps(nsites, aJ, am, omegadt, rtts=rtts_sim, cxs=cxs_sim)\n",
    "circuits = trotter_step_circuits(M, (single_step_circuit, two_step_circuit))\n",
    "\n",
    "job_cnot_sim = simulator.run(circuits, shots=8192)\n",
    "plot_counts_with_curve(combined_counts(job_cnot_sim, M), nsites, aJ, am, omegadt, M)"
   ]
  },
  {
   "cell_type": "markdown",
   "id": "14cd2c6e-c4d4-4342-b1d9-dce7349358de",
   "metadata": {},
   "source": [
    "## Define and submit all circuits"
   ]
  },
  {
   "cell_type": "code",
   "execution_count": 9,
   "id": "e380c86c-6fb4-43d3-b878-37bea3aa92df",
   "metadata": {},
   "outputs": [],
   "source": [
    "# rtts_linear = {\n",
    "#     (0, 1): LinearizedCR(backend, tuple(physical_qubits[:2])),\n",
    "#     (1, 2): LinearizedCR(backend, tuple(physical_qubits[1:3])),\n",
    "#     (2, 3): LinearizedCR(backend, tuple(physical_qubits[2:]))\n",
    "# }\n",
    "rtts_pe = dict(((j, j + 1), PulseEfficientCR(backend, (physical_qubits[j], physical_qubits[j + 1]))) for j in range(nsites - 1))\n",
    "rtts_cnot = dict(((j, j + 1), CNOTBasedRtt(backend, (physical_qubits[j], physical_qubits[j + 1]))) for j in range(nsites - 1))\n",
    "\n",
    "cxs = {\n",
    "    (0, 1): cx_circuit(backend, *tuple(physical_qubits[:2])),\n",
    "    (1, 0): cx_circuit(backend, *tuple(physical_qubits[1::-1]))\n",
    "}"
   ]
  },
  {
   "cell_type": "code",
   "execution_count": 10,
   "id": "2d77a6c7-f95b-4e92-978e-ed1417211d1e",
   "metadata": {},
   "outputs": [],
   "source": [
    "# single_step_circuit = single_step(nsites, aJ, am, omegadt, rtts=rtts_linear, cxs=cxs)\n",
    "# two_step_circuit = two_steps(nsites, aJ, am, omegadt, rtts=rtts_linear, cxs=cxs)\n",
    "# circuits_linear = trotter_step_circuits(M, single_step_circuit, two_step_circuit)\n",
    "# circuits_linear = transpile_dd(circuits_linear)\n",
    "\n",
    "# job_linear = backend.run(circuits_linear, shots=8192)\n",
    "# print('linear', job_linear.job_id())\n",
    "\n",
    "# job_linear = backend.retrieve_job('616f8757cea633cf53145082')"
   ]
  },
  {
   "cell_type": "code",
   "execution_count": 11,
   "id": "577c9b8a-4ba0-4f7c-b73b-792098eee8f1",
   "metadata": {},
   "outputs": [],
   "source": [
    "pe_job_id = '61ad65301e11d53f566bd1a2'\n",
    "\n",
    "if not pe_job_id:\n",
    "    single_step_circuit = single_step(nsites, aJ, am, omegadt, rtts=rtts_pe, cxs=cxs)\n",
    "    two_step_circuit = two_steps(nsites, aJ, am, omegadt, rtts=rtts_pe, cxs=cxs)\n",
    "    circuits_pe = trotter_step_circuits(M, (single_step_circuit, two_step_circuit))\n",
    "    circuits_pe = transpile_with_dynamical_decoupling(circuits_pe, backend=backend, initial_layout=physical_qubits, optimization_level=1)\n",
    "\n",
    "    job_pe = backend.run(circuits_pe, shots=32000)\n",
    "    print('pe', job_pe.job_id())\n",
    "    pe_job_id = job_pe.job_id()\n",
    "    \n",
    "else:\n",
    "    job_pe = backend.retrieve_job(pe_job_id)"
   ]
  },
  {
   "cell_type": "code",
   "execution_count": 12,
   "id": "ba71ee54-c812-4c15-8d1a-d0989b797bd1",
   "metadata": {},
   "outputs": [],
   "source": [
    "# single_step_circuit = single_step_no_opt(nsites, aJ, am, omegadt)\n",
    "# circuits_naive = trotter_step_circuits(M, single_step_circuit)\n",
    "# circuits_naive = transpile_with_dynamical_decoupling(circuits_naive, backend=backend, physical_qubits=physical_qubits, optimization_level=3) * 4\n",
    "\n",
    "# job_naive = backend.run(circuits_naive, shots=8192)\n",
    "# print('naive', job_naive.job_id())\n",
    "\n",
    "# job_naive = backend.retrieve_job('61704a019c88ce59b9b0ea1b')"
   ]
  },
  {
   "cell_type": "code",
   "execution_count": 13,
   "id": "2079b0cb-70c6-438e-8d40-cb1141f397db",
   "metadata": {},
   "outputs": [],
   "source": [
    "cnot_job_id = '61ad6b2efd929e1f82d1a326'\n",
    "\n",
    "if not cnot_job_id:\n",
    "    single_step_circuit = single_step(nsites, aJ, am, omegadt, rtts=rtts_cnot, cxs=cxs)\n",
    "    two_step_circuit = two_steps(nsites, aJ, am, omegadt, rtts=rtts_cnot, cxs=cxs)\n",
    "    circuits_cnot = trotter_step_circuits(M, (single_step_circuit, two_step_circuit))\n",
    "    circuits_cnot = transpile_with_dynamical_decoupling(circuits_cnot, backend=backend, initial_layout=physical_qubits, optimization_level=1)\n",
    "\n",
    "    job_cnot = backend.run(circuits_cnot, shots=32000)\n",
    "    print('cnot', job_cnot.job_id())\n",
    "    cnot_job_id = job_cnot.job_id()\n",
    "    \n",
    "else:\n",
    "    job_cnot = backend.retrieve_job(cnot_job_id)"
   ]
  },
  {
   "cell_type": "markdown",
   "id": "bc13c38b-64de-469c-b3ec-9448d192b7ed",
   "metadata": {},
   "source": [
    "## Forward steps with LinearizedCR"
   ]
  },
  {
   "cell_type": "code",
   "execution_count": 14,
   "id": "cfd52fd2-0d6b-42eb-a8ba-f3feac46aceb",
   "metadata": {},
   "outputs": [],
   "source": [
    "# plot_counts_with_curve(combined_counts(job_linear, M, mem_filter=mem), nsites, aJ, am, omegadt, M)"
   ]
  },
  {
   "cell_type": "markdown",
   "id": "dde27f1c-95b8-48cf-9c36-d09797f9f73d",
   "metadata": {},
   "source": [
    "## Forward steps with Pulse-Efficient CR"
   ]
  },
  {
   "cell_type": "code",
   "execution_count": 15,
   "id": "cac63e5f-5150-4c58-98a4-c960ec772678",
   "metadata": {},
   "outputs": [
    {
     "data": {
      "image/png": "[encoded data removed]",
      "text/plain": [
       "<Figure size 432x288 with 1 Axes>"
      ]
     },
     "metadata": {
      "needs_background": "light"
     },
     "output_type": "display_data"
    }
   ],
   "source": [
    "plot_counts_with_curve(combined_counts(job_pe, M, mem_filter=mem), nsites, aJ, am, omegadt, M)"
   ]
  },
  {
   "cell_type": "markdown",
   "id": "cbf00152-b97e-4817-add2-0eb8dbbd0f33",
   "metadata": {},
   "source": [
    "## Forward with naive implementation (optimization level 3)"
   ]
  },
  {
   "cell_type": "code",
   "execution_count": 16,
   "id": "beb9f226-7259-4680-b2be-cf7678f89ca8",
   "metadata": {},
   "outputs": [],
   "source": [
    "# plot_counts_with_curve(combined_counts(job_naive, M, mem_filter=mem), nsites, aJ, am, omegadt, M)"
   ]
  },
  {
   "cell_type": "markdown",
   "id": "c8c9ac96-3e57-444f-9392-b3830e9036fd",
   "metadata": {},
   "source": [
    "## Forward steps with CNOT-based Rtt"
   ]
  },
  {
   "cell_type": "code",
   "execution_count": 17,
   "id": "a1556643-1ad5-420b-bde7-821b87815d46",
   "metadata": {},
   "outputs": [
    {
     "data": {
      "image/png": "[encoded data removed]",
      "text/plain": [
       "<Figure size 432x288 with 1 Axes>"
      ]
     },
     "metadata": {
      "needs_background": "light"
     },
     "output_type": "display_data"
    }
   ],
   "source": [
    "plot_counts_with_curve(combined_counts(job_cnot, M, mem_filter=mem), nsites, aJ, am, omegadt, M)"
   ]
  },
  {
   "cell_type": "code",
   "execution_count": null,
   "id": "97914ae5-67d4-42cf-ae67-f8536ce2c119",
   "metadata": {},
   "outputs": [],
   "source": []
  }
 ],
 "metadata": {
  "kernelspec": {
   "display_name": "Python 3 (ipykernel)",
   "language": "python",
   "name": "python3"
  },
  "language_info": {
   "codemirror_mode": {
    "name": "ipython",
    "version": 3
   },
   "file_extension": ".py",
   "mimetype": "text/x-python",
   "name": "python",
   "nbconvert_exporter": "python",
   "pygments_lexer": "ipython3",
   "version": "3.8.10"
  }
 },
 "nbformat": 4,
 "nbformat_minor": 5
}
